{
 "cells": [
  {
   "cell_type": "code",
   "execution_count": 28,
   "metadata": {
    "executionInfo": {
     "elapsed": 8,
     "status": "ok",
     "timestamp": 1749708451591,
     "user": {
      "displayName": "Sangyup Yi",
      "userId": "12601833867960021485"
     },
     "user_tz": -540
    },
    "id": "IrccBzO7loBI"
   },
   "outputs": [],
   "source": [
    "import matplotlib.pyplot as plt\n",
    "import numpy as np\n",
    "import torch\n",
    "from torch import nn\n",
    "from torch import optim\n",
    "from torchvision import datasets, transforms\n",
    "from tqdm import tqdm"
   ]
  },
  {
   "cell_type": "code",
   "execution_count": 29,
   "metadata": {
    "colab": {
     "base_uri": "https://localhost:8080/"
    },
    "executionInfo": {
     "elapsed": 1363,
     "status": "ok",
     "timestamp": 1749708452956,
     "user": {
      "displayName": "Sangyup Yi",
      "userId": "12601833867960021485"
     },
     "user_tz": -540
    },
    "id": "Ea1PLrLjn7bb",
    "outputId": "08012a01-817e-4a0f-ccfd-f7523f63c883"
   },
   "outputs": [],
   "source": [
    "# from google.colab import drive\n",
    "# drive.mount('/content/drive')"
   ]
  },
  {
   "cell_type": "code",
   "execution_count": 30,
   "metadata": {
    "colab": {
     "base_uri": "https://localhost:8080/"
    },
    "executionInfo": {
     "elapsed": 6,
     "status": "ok",
     "timestamp": 1749708452962,
     "user": {
      "displayName": "Sangyup Yi",
      "userId": "12601833867960021485"
     },
     "user_tz": -540
    },
    "id": "BSqht6E3nHIY",
    "outputId": "09ab3aa4-5c87-4027-f125-1a0041c4dd89"
   },
   "outputs": [
    {
     "name": "stdout",
     "output_type": "stream",
     "text": [
      "cpu\n"
     ]
    }
   ],
   "source": [
    "DEVICE = 'cuda' if torch.cuda.is_available() else 'cpu'\n",
    "print(DEVICE)"
   ]
  },
  {
   "cell_type": "markdown",
   "metadata": {
    "id": "i8tFaxxO7HkA"
   },
   "source": [
    "#### Hyper-parameters"
   ]
  },
  {
   "cell_type": "code",
   "execution_count": 31,
   "metadata": {
    "executionInfo": {
     "elapsed": 1,
     "status": "ok",
     "timestamp": 1749708452964,
     "user": {
      "displayName": "Sangyup Yi",
      "userId": "12601833867960021485"
     },
     "user_tz": -540
    },
    "id": "qr4Y4rLa4EoJ"
   },
   "outputs": [],
   "source": [
    "DS = datasets.MNIST # MNIST, CIFAR10\n",
    "\n",
    "N_BATCH = 32 # mini-batch size\n",
    "MODEL_NAME = 'CNN_deep' # MLP, CNN, CNN_deep\n",
    "# LR = 1e-1\n",
    "# LR = 1e-2\n",
    "LR = 1e-3\n",
    "EPOCH = 5\n",
    "\n",
    "TRAIN_MODEL = True               # 새로 학습할지 여부\n",
    "SAVE_MODEL = True and TRAIN_MODEL # 학습한 경우, 모델을 파일에 저장할지 여부\n",
    "LOAD_MODEL = not TRAIN_MODEL      # 테스트를 위해 저장된 모델을 사용할지 여부(True: 저장된 모델, False: 학습한 모델)\n",
    "\n",
    "DATA_PATH = '../data' # where to save data\n",
    "MODEL_PATH = '../result' # where to save model"
   ]
  },
  {
   "cell_type": "markdown",
   "metadata": {
    "id": "3C1CKtFSmn6P"
   },
   "source": [
    "## STEP 1. DATA set"
   ]
  },
  {
   "cell_type": "markdown",
   "metadata": {
    "id": "IRBSwqsisFYa"
   },
   "source": [
    "#### Dataset"
   ]
  },
  {
   "cell_type": "code",
   "execution_count": 32,
   "metadata": {
    "colab": {
     "base_uri": "https://localhost:8080/"
    },
    "executionInfo": {
     "elapsed": 8,
     "status": "ok",
     "timestamp": 1749708452973,
     "user": {
      "displayName": "Sangyup Yi",
      "userId": "12601833867960021485"
     },
     "user_tz": -540
    },
    "id": "TL56CGP6ynCC",
    "outputId": "644641b3-bcd5-4a77-c045-7b7343d30f3d"
   },
   "outputs": [
    {
     "name": "stdout",
     "output_type": "stream",
     "text": [
      "MNIST\n"
     ]
    }
   ],
   "source": [
    "DS_NAME = DS.__name__\n",
    "print(DS_NAME)"
   ]
  },
  {
   "cell_type": "code",
   "execution_count": 33,
   "metadata": {
    "executionInfo": {
     "elapsed": 2979,
     "status": "ok",
     "timestamp": 1749708455953,
     "user": {
      "displayName": "Sangyup Yi",
      "userId": "12601833867960021485"
     },
     "user_tz": -540
    },
    "id": "35Fc1m-dmrt7"
   },
   "outputs": [
    {
     "name": "stderr",
     "output_type": "stream",
     "text": [
      "100%|██████████| 9.91M/9.91M [00:11<00:00, 890kB/s] \n",
      "100%|██████████| 28.9k/28.9k [00:00<00:00, 98.0kB/s]\n",
      "100%|██████████| 1.65M/1.65M [00:05<00:00, 299kB/s]\n",
      "100%|██████████| 4.54k/4.54k [00:00<00:00, 18.6MB/s]\n"
     ]
    }
   ],
   "source": [
    "transform = transforms.ToTensor()\n",
    "train_DS = DS(root=DATA_PATH, train=True, download=True, transform=transform)\n",
    "test_DS = DS(root=DATA_PATH, train=False, download=True, transform=transform)"
   ]
  },
  {
   "cell_type": "code",
   "execution_count": 34,
   "metadata": {
    "colab": {
     "base_uri": "https://localhost:8080/"
    },
    "executionInfo": {
     "elapsed": 4,
     "status": "ok",
     "timestamp": 1749708455958,
     "user": {
      "displayName": "Sangyup Yi",
      "userId": "12601833867960021485"
     },
     "user_tz": -540
    },
    "id": "whMYnktVvi_p",
    "outputId": "365831d9-e380-48e3-9a74-2dbd26a1e59f"
   },
   "outputs": [
    {
     "name": "stdout",
     "output_type": "stream",
     "text": [
      "Dataset MNIST\n",
      "    Number of datapoints: 60000\n",
      "    Root location: ../data\n",
      "    Split: Train\n",
      "    StandardTransform\n",
      "Transform: ToTensor()\n",
      "Dataset MNIST\n",
      "    Number of datapoints: 10000\n",
      "    Root location: ../data\n",
      "    Split: Test\n",
      "    StandardTransform\n",
      "Transform: ToTensor()\n"
     ]
    }
   ],
   "source": [
    "print(train_DS)\n",
    "print(test_DS)"
   ]
  },
  {
   "cell_type": "code",
   "execution_count": 35,
   "metadata": {
    "colab": {
     "base_uri": "https://localhost:8080/",
     "height": 572
    },
    "executionInfo": {
     "elapsed": 635,
     "status": "ok",
     "timestamp": 1749708456594,
     "user": {
      "displayName": "Sangyup Yi",
      "userId": "12601833867960021485"
     },
     "user_tz": -540
    },
    "id": "eAKt3CCUns4a",
    "outputId": "ffa638e2-b2c1-42c6-8644-8cb683c97be5"
   },
   "outputs": [
    {
     "name": "stdout",
     "output_type": "stream",
     "text": [
      "Number of classes : 10\n",
      "Classes : ['0 - zero', '1 - one', '2 - two', '3 - three', '4 - four', '5 - five', '6 - six', '7 - seven', '8 - eight', '9 - nine']\n",
      "Class-to-index map : {'0 - zero': 0, '1 - one': 1, '2 - two': 2, '3 - three': 3, '4 - four': 4, '5 - five': 5, '6 - six': 6, '7 - seven': 7, '8 - eight': 8, '9 - nine': 9}\n"
     ]
    },
    {
     "data": {
      "image/png": "[encoded data removed]",
      "text/plain": [
       "<Figure size 800x600 with 12 Axes>"
      ]
     },
     "metadata": {},
     "output_type": "display_data"
    }
   ],
   "source": [
    "print(f'Number of classes : {len(train_DS.classes)}')\n",
    "print(f'Classes : {train_DS.classes}')\n",
    "print(f'Class-to-index map : {train_DS.class_to_idx}')\n",
    "plt.figure(figsize=(8, 6))\n",
    "for i in range(12):\n",
    "  plt.subplot(3, 4, i+1)\n",
    "  # plt.subplot(3, 4, i+1, xticks=[], yticks=[])\n",
    "  plt.imshow(train_DS.data[i], cmap='gray')\n",
    "  plt.title(train_DS.classes[train_DS.targets[i]], color='k')\n",
    "  plt.axis('off')"
   ]
  },
  {
   "cell_type": "markdown",
   "metadata": {
    "id": "5iD-1j4-5gos"
   },
   "source": [
    "#### Dataloader"
   ]
  },
  {
   "cell_type": "code",
   "execution_count": 36,
   "metadata": {
    "executionInfo": {
     "elapsed": 3,
     "status": "ok",
     "timestamp": 1749708456596,
     "user": {
      "displayName": "Sangyup Yi",
      "userId": "12601833867960021485"
     },
     "user_tz": -540
    },
    "id": "hq7wmudOxXsx"
   },
   "outputs": [],
   "source": [
    "train_DL = torch.utils.data.DataLoader(train_DS, batch_size=N_BATCH, shuffle=True)\n",
    "test_DL = torch.utils.data.DataLoader(test_DS, batch_size=N_BATCH, shuffle=False)"
   ]
  },
  {
   "cell_type": "markdown",
   "metadata": {
    "id": "ZaVWqyBP5aNb"
   },
   "source": [
    "#### Get data parameters"
   ]
  },
  {
   "cell_type": "code",
   "execution_count": 37,
   "metadata": {
    "colab": {
     "base_uri": "https://localhost:8080/"
    },
    "executionInfo": {
     "elapsed": 10,
     "status": "ok",
     "timestamp": 1749708456604,
     "user": {
      "displayName": "Sangyup Yi",
      "userId": "12601833867960021485"
     },
     "user_tz": -540
    },
    "id": "WGwEElHO4BFi",
    "outputId": "3c2ce79c-0c19-430f-b1f5-f9d1bc15c032"
   },
   "outputs": [
    {
     "name": "stdout",
     "output_type": "stream",
     "text": [
      "Number of training data : 60000\n",
      "Number of test data : 10000\n",
      "Number of classes: 10\n",
      "Channel: 1, Width: 28, Height: 28\n"
     ]
    }
   ],
   "source": [
    "N_TRAIN = len(train_DS)\n",
    "N_TEST = len(test_DS)\n",
    "print(f'Number of training data : {N_TRAIN}')\n",
    "print(f'Number of test data : {N_TEST}')\n",
    "\n",
    "N_CLASSES = len(train_DS.classes)\n",
    "print(f'Number of classes: {N_CLASSES}')\n",
    "\n",
    "x_batch, y_batch = next(iter(train_DL))\n",
    "N_CH = x_batch.shape[1]\n",
    "N_WIDTH = x_batch.shape[2]\n",
    "N_HEIGHT = x_batch.shape[3]\n",
    "print(f'Channel: {N_CH}, Width: {N_WIDTH}, Height: {N_HEIGHT}')"
   ]
  },
  {
   "cell_type": "code",
   "execution_count": 38,
   "metadata": {
    "colab": {
     "base_uri": "https://localhost:8080/",
     "height": 282
    },
    "executionInfo": {
     "elapsed": 7,
     "status": "ok",
     "timestamp": 1749708456612,
     "user": {
      "displayName": "Sangyup Yi",
      "userId": "12601833867960021485"
     },
     "user_tz": -540
    },
    "id": "ZV6e3CRhyCaE",
    "outputId": "e91aa4b9-80fb-4e68-b34f-e8d4bc0aa37c"
   },
   "outputs": [
    {
     "name": "stdout",
     "output_type": "stream",
     "text": [
      "<class 'torch.Tensor'>\n",
      "torch.Size([32, 1, 28, 28])\n",
      "torch.Size([32])\n",
      "torch.float32\n"
     ]
    },
    {
     "data": {
      "image/png": "[encoded data removed]",
      "text/plain": [
       "<Figure size 200x200 with 1 Axes>"
      ]
     },
     "metadata": {},
     "output_type": "display_data"
    }
   ],
   "source": [
    "# torch.dataset.transforms.ToTensor()의 역할\n",
    "#   1.tensor로 변환\n",
    "#   2. shape을 '개채행렬'로 변환\n",
    "#   3. int[0,255]->float[0.0,1.0]로 변환\n",
    "\n",
    "x_batch, y_batch = next(iter(train_DL))\n",
    "print(type(x_batch))\n",
    "print(x_batch.shape)\n",
    "print(y_batch.shape)\n",
    "print(x_batch.dtype)\n",
    "\n",
    "plt.figure(figsize=(2,2))\n",
    "if N_CH == 1:\n",
    "  plt.imshow(x_batch[0].squeeze(), cmap='gray')\n",
    "else:\n",
    "  plt.imshow(x_batch[0].squeeze().permute(1, 2, 0))\n",
    "plt.title(train_DS.classes[y_batch[0]], color='k')\n",
    "plt.axis('off')\n",
    "plt.show()"
   ]
  },
  {
   "cell_type": "markdown",
   "metadata": {
    "id": "OIoVfcj4-T-g"
   },
   "source": [
    "## STEP 2. 모델"
   ]
  },
  {
   "cell_type": "markdown",
   "metadata": {
    "id": "2SRA8G3TrHA9"
   },
   "source": [
    "#### MLP"
   ]
  },
  {
   "cell_type": "code",
   "execution_count": 39,
   "metadata": {
    "executionInfo": {
     "elapsed": 4,
     "status": "ok",
     "timestamp": 1749708456617,
     "user": {
      "displayName": "Sangyup Yi",
      "userId": "12601833867960021485"
     },
     "user_tz": -540
    },
    "id": "1_B5JJOB-WuD"
   },
   "outputs": [],
   "source": [
    "class MLP(nn.Module):\n",
    "  def __init__(self, channel, width, height, classes):\n",
    "    super().__init__()\n",
    "\n",
    "    self.fcs = nn.Sequential(nn.Linear(channel * width * height, 100),\n",
    "                             nn.ReLU(),\n",
    "                             nn.Linear(100, classes))\n",
    "\n",
    "  def forward(self, x):\n",
    "    x = x.view(x.shape[0], -1) #\n",
    "    # x = x.flatten(dim=1) # batch size 만 남기고 flatten()\n",
    "    x = self.fcs(x)\n",
    "    return x"
   ]
  },
  {
   "cell_type": "code",
   "execution_count": 40,
   "metadata": {
    "executionInfo": {
     "elapsed": 15,
     "status": "ok",
     "timestamp": 1749708456629,
     "user": {
      "displayName": "Sangyup Yi",
      "userId": "12601833867960021485"
     },
     "user_tz": -540
    },
    "id": "DccOIBrUqbNP"
   },
   "outputs": [],
   "source": [
    "class MLP_shallow(nn.Module):\n",
    "  def __init__(self, channel, width, height, classes):\n",
    "    super().__init__()\n",
    "\n",
    "    self.fcs = nn.Sequential(nn.Linear(channel * width * height, 100),\n",
    "                             nn.BatchNormal1d(100),\n",
    "                             nn.ReLU(),\n",
    "                             nn.Linear(100, classes))\n",
    "\n",
    "  def forward(self, x):\n",
    "    x = x.view(x.shape[0], -1) #\n",
    "    # x = x.flatten(dim=1) # batch size 만 남기고 flatten()\n",
    "    x = self.fcs(x)\n",
    "    return x"
   ]
  },
  {
   "cell_type": "code",
   "execution_count": 41,
   "metadata": {
    "executionInfo": {
     "elapsed": 8,
     "status": "ok",
     "timestamp": 1749708456630,
     "user": {
      "displayName": "Sangyup Yi",
      "userId": "12601833867960021485"
     },
     "user_tz": -540
    },
    "id": "OdU67Ea3sVdn"
   },
   "outputs": [],
   "source": [
    "class MLP_deep(nn.Module):\n",
    "  def __init__(self, channel, width, height, classes):\n",
    "    super().__init__()\n",
    "\n",
    "    self.fcs = nn.Sequential(nn.Linear(channel * width * height, 75),\n",
    "                             nn.BatchNormal1d(75),\n",
    "                             nn.ReLU(),\n",
    "                             *[i for _ in range(13) for i in [nn.Linear(75, 75), nn.ReLU()]],\n",
    "                             nn.Linear(75, classes))\n",
    "\n",
    "  def forward(self, x):\n",
    "    x = x.view(x.shape[0], -1) #\n",
    "    # x = x.flatten(dim=1) # batch size 만 남기고 flatten()\n",
    "    x = self.fcs(x)\n",
    "    return x"
   ]
  },
  {
   "cell_type": "markdown",
   "metadata": {
    "id": "nEuGviu_rJIe"
   },
   "source": [
    "#### CNN"
   ]
  },
  {
   "cell_type": "code",
   "execution_count": 42,
   "metadata": {
    "executionInfo": {
     "elapsed": 5,
     "status": "ok",
     "timestamp": 1749708456630,
     "user": {
      "displayName": "Sangyup Yi",
      "userId": "12601833867960021485"
     },
     "user_tz": -540
    },
    "id": "i9QsmAFjxdnm"
   },
   "outputs": [],
   "source": [
    "class CNN(nn.Module):\n",
    "  def __init__(self, channel, width, height, classes):\n",
    "    super().__init__()\n",
    "\n",
    "    self.conv1 = nn.Sequential(nn.Conv2d(channel, 10, 3, padding=1),\n",
    "                               nn.BatchNorm2d(10),\n",
    "                               nn.ReLU())\n",
    "    self.maxpool1 = nn.MaxPool2d(2); width //= 2; height //= 2\n",
    "    self.conv2 = nn.Sequential(nn.Conv2d(10, 20, 3, padding=1),\n",
    "                               nn.BatchNorm2d(20),\n",
    "                               nn.ReLU())\n",
    "    self.maxpool2 = nn.MaxPool2d(2); width //= 2; height //= 2\n",
    "    self.conv3 = nn.Sequential(nn.Conv2d(20, 40, 3, padding=1),\n",
    "                               nn.BatchNorm2d(40),\n",
    "                               nn.ReLU())\n",
    "    self.maxpool3 = nn.MaxPool2d(2); width //= 2; height //= 2\n",
    "    self.fc1 = nn.Linear(40*width*height, 100)\n",
    "    self.fc2 = nn.Linear(100, classes)\n",
    "\n",
    "  def forward(self, x):\n",
    "    x = self.conv1(x)\n",
    "    x = self.maxpool1(x)\n",
    "    x = self.conv2(x)\n",
    "    x = self.maxpool2(x)\n",
    "    x = self.conv3(x)\n",
    "    x = self.maxpool3(x)\n",
    "    x = x.view(x.shape[0], -1) # (batch size, ) 의 2차원 tensor로 변환\n",
    "    # x = x.flatten(dim=1) # batch size 만 남기고 flatten()\n",
    "    x = self.fc1(x)\n",
    "    x = self.fc2(x)\n",
    "    return x"
   ]
  },
  {
   "cell_type": "code",
   "execution_count": 43,
   "metadata": {
    "executionInfo": {
     "elapsed": 5,
     "status": "ok",
     "timestamp": 1749708456631,
     "user": {
      "displayName": "Sangyup Yi",
      "userId": "12601833867960021485"
     },
     "user_tz": -540
    },
    "id": "sx3X2Pw8bH3M"
   },
   "outputs": [],
   "source": [
    "class CNN_deep(nn.Module):\n",
    "  def __init__(self, channel, width, height, classes):\n",
    "    super().__init__()\n",
    "\n",
    "    self.conv1 = nn.Sequential(nn.Conv2d(channel, 32, 3, padding=1),\n",
    "                               nn.BatchNorm2d(32),\n",
    "                               nn.ReLU(),\n",
    "                               nn.Conv2d(32, 32, 3, padding=1),\n",
    "                               nn.BatchNorm2d(32),\n",
    "                               nn.ReLU())\n",
    "    self.maxpool1 = nn.MaxPool2d(2); width //= 2; height //= 2\n",
    "    self.conv2 = nn.Sequential(nn.Conv2d(32, 64, 3, padding=1),\n",
    "                               nn.BatchNorm2d(64),\n",
    "                               nn.ReLU(),\n",
    "                               nn.Conv2d(64, 64, 3, padding=1),\n",
    "                               nn.BatchNorm2d(64),\n",
    "                               nn.ReLU())\n",
    "    self.maxpool2 = nn.MaxPool2d(2); width //= 2; height //= 2\n",
    "    self.conv3 = nn.Sequential(nn.Conv2d(64, 128, 3, padding=1),\n",
    "                               nn.BatchNorm2d(128),\n",
    "                               nn.ReLU(),\n",
    "                               nn.Conv2d(128, 128, 3, padding=1),\n",
    "                               nn.BatchNorm2d(128),\n",
    "                               nn.ReLU())\n",
    "    self.maxpool3 = nn.MaxPool2d(2); width //= 2; height //= 2\n",
    "    self.fc = nn.Sequential(nn.Linear(128*width*height, 512),\n",
    "                            nn.Linear(512, classes))\n",
    "\n",
    "  def forward(self, x):\n",
    "    x = self.conv1(x)\n",
    "    x = self.maxpool1(x)\n",
    "    x = self.conv2(x)\n",
    "    x = self.maxpool2(x)\n",
    "    x = self.conv3(x)\n",
    "    x = self.maxpool3(x)\n",
    "    x = x.view(x.shape[0], -1) # (batch size, ) 의 2차원 tensor로 변환\n",
    "    # x = x.flatten(dim=1) # batch size 만 남기고 flatten()\n",
    "    x = self.fc(x)\n",
    "    return x"
   ]
  },
  {
   "cell_type": "markdown",
   "metadata": {
    "id": "hXBcXbWErPB6"
   },
   "source": [
    "#### 모델 생성"
   ]
  },
  {
   "cell_type": "code",
   "execution_count": 44,
   "metadata": {
    "colab": {
     "base_uri": "https://localhost:8080/"
    },
    "executionInfo": {
     "elapsed": 9,
     "status": "ok",
     "timestamp": 1749708456637,
     "user": {
      "displayName": "Sangyup Yi",
      "userId": "12601833867960021485"
     },
     "user_tz": -540
    },
    "id": "jlLoYvom_OPm",
    "outputId": "458c47f5-73a4-416a-e911-4c51e45fe80a"
   },
   "outputs": [
    {
     "name": "stdout",
     "output_type": "stream",
     "text": [
      "CNN_deep(\n",
      "  (conv1): Sequential(\n",
      "    (0): Conv2d(1, 32, kernel_size=(3, 3), stride=(1, 1), padding=(1, 1))\n",
      "    (1): BatchNorm2d(32, eps=1e-05, momentum=0.1, affine=True, track_running_stats=True)\n",
      "    (2): ReLU()\n",
      "    (3): Conv2d(32, 32, kernel_size=(3, 3), stride=(1, 1), padding=(1, 1))\n",
      "    (4): BatchNorm2d(32, eps=1e-05, momentum=0.1, affine=True, track_running_stats=True)\n",
      "    (5): ReLU()\n",
      "  )\n",
      "  (maxpool1): MaxPool2d(kernel_size=2, stride=2, padding=0, dilation=1, ceil_mode=False)\n",
      "  (conv2): Sequential(\n",
      "    (0): Conv2d(32, 64, kernel_size=(3, 3), stride=(1, 1), padding=(1, 1))\n",
      "    (1): BatchNorm2d(64, eps=1e-05, momentum=0.1, affine=True, track_running_stats=True)\n",
      "    (2): ReLU()\n",
      "    (3): Conv2d(64, 64, kernel_size=(3, 3), stride=(1, 1), padding=(1, 1))\n",
      "    (4): BatchNorm2d(64, eps=1e-05, momentum=0.1, affine=True, track_running_stats=True)\n",
      "    (5): ReLU()\n",
      "  )\n",
      "  (maxpool2): MaxPool2d(kernel_size=2, stride=2, padding=0, dilation=1, ceil_mode=False)\n",
      "  (conv3): Sequential(\n",
      "    (0): Conv2d(64, 128, kernel_size=(3, 3), stride=(1, 1), padding=(1, 1))\n",
      "    (1): BatchNorm2d(128, eps=1e-05, momentum=0.1, affine=True, track_running_stats=True)\n",
      "    (2): ReLU()\n",
      "    (3): Conv2d(128, 128, kernel_size=(3, 3), stride=(1, 1), padding=(1, 1))\n",
      "    (4): BatchNorm2d(128, eps=1e-05, momentum=0.1, affine=True, track_running_stats=True)\n",
      "    (5): ReLU()\n",
      "  )\n",
      "  (maxpool3): MaxPool2d(kernel_size=2, stride=2, padding=0, dilation=1, ceil_mode=False)\n",
      "  (fc): Sequential(\n",
      "    (0): Linear(in_features=1152, out_features=512, bias=True)\n",
      "    (1): Linear(in_features=512, out_features=10, bias=True)\n",
      "  )\n",
      ")\n",
      "torch.Size([32, 1, 28, 28])\n",
      "torch.Size([32])\n",
      "torch.Size([32, 10]) tensor([-0.5368,  0.1589, -0.2118,  0.4621,  0.0864,  0.1524,  0.2921, -0.5115,\n",
      "        -0.3941, -0.4470], grad_fn=<SelectBackward0>)\n",
      "torch.Size([32]) tensor(0)\n"
     ]
    }
   ],
   "source": [
    "model = globals()[MODEL_NAME](N_CH, N_WIDTH, N_HEIGHT, N_CLASSES).to(DEVICE)\n",
    "print(model)\n",
    "x_batch, y_batch = next(iter(train_DL))\n",
    "x_batch = x_batch.to(DEVICE)\n",
    "y_batch = y_batch.to(DEVICE)\n",
    "print(x_batch.shape)\n",
    "print(y_batch.shape)\n",
    "y = model(x_batch.to(DEVICE))\n",
    "print(y.shape, y[0])\n",
    "print(y_batch.shape, y_batch[0])"
   ]
  },
  {
   "cell_type": "code",
   "execution_count": 45,
   "metadata": {
    "colab": {
     "base_uri": "https://localhost:8080/"
    },
    "executionInfo": {
     "elapsed": 3,
     "status": "ok",
     "timestamp": 1749708456639,
     "user": {
      "displayName": "Sangyup Yi",
      "userId": "12601833867960021485"
     },
     "user_tz": -540
    },
    "id": "aWBtqoMVSg6N",
    "outputId": "9252727f-5673-4d80-dcab-1709877c9628"
   },
   "outputs": [
    {
     "name": "stdout",
     "output_type": "stream",
     "text": [
      "torch.Size([32, 10])\n",
      "torch.Size([32])\n",
      "------------------------------\n",
      "tensor(2.3480, grad_fn=<NllLossBackward0>)\n",
      "tensor(2.3480, grad_fn=<NllLossBackward0>)\n",
      "tensor(2.3480, grad_fn=<DivBackward0>)\n"
     ]
    }
   ],
   "source": [
    "# loss function test\n",
    "print(y.shape)\n",
    "print(y_batch.shape)\n",
    "print('-'*30)\n",
    "\n",
    "# METHOD 1. torch.nn.CrossEntropyLoss() (softmax 내장)\n",
    "criterion = nn.CrossEntropyLoss() # Binary Cross Entropy loss\n",
    "loss = criterion(y, y_batch.to(DEVICE))\n",
    "print(loss)\n",
    "\n",
    "# METHOD 2. torch.functional.cross_entropy (softmax 내장)\n",
    "from torch.functional import F\n",
    "loss = F.cross_entropy(y, y_batch.to(DEVICE))\n",
    "print(loss)\n",
    "\n",
    "# METHOD 3. torch.nn.Softmax() 후 직접 계산\n",
    "softmax = nn.Softmax(dim=1)\n",
    "y_soft = softmax(y)\n",
    "# print(y_soft)\n",
    "loss = 0\n",
    "for i, val in enumerate(y_soft):\n",
    "  loss += -torch.log(val[y_batch[i]]) # 정답에 대한 확률에 마이너스 로그 취한 값\n",
    "loss /= len(y_batch)\n",
    "print(loss)"
   ]
  },
  {
   "cell_type": "markdown",
   "metadata": {
    "id": "EXZ3Jodj6fWW"
   },
   "source": [
    "#### 모델 파라미터 개수 출력"
   ]
  },
  {
   "cell_type": "code",
   "execution_count": 46,
   "metadata": {
    "colab": {
     "base_uri": "https://localhost:8080/"
    },
    "executionInfo": {
     "elapsed": 26,
     "status": "ok",
     "timestamp": 1749708456666,
     "user": {
      "displayName": "Sangyup Yi",
      "userId": "12601833867960021485"
     },
     "user_tz": -540
    },
    "id": "rymNlvNuv0z_",
    "outputId": "c8f3fd48-325d-4c91-9cee-56a5ccb56939"
   },
   "outputs": [
    {
     "name": "stdout",
     "output_type": "stream",
     "text": [
      "number of parameters : 882794\n"
     ]
    }
   ],
   "source": [
    "# parameter 수 구하기\n",
    "def count_params(model):\n",
    "  return sum([p.numel() for p in model.parameters()])\n",
    "\n",
    "print(f'number of parameters : {count_params(model)}')"
   ]
  },
  {
   "cell_type": "markdown",
   "metadata": {
    "id": "uPa22ZAzDYFk"
   },
   "source": [
    "## STEP 3. 모델 훈련"
   ]
  },
  {
   "cell_type": "markdown",
   "metadata": {
    "id": "W1BO6SzMrwlo"
   },
   "source": [
    "#### mini-batch SGD (Stochastic Gradient Descent)"
   ]
  },
  {
   "cell_type": "code",
   "execution_count": 47,
   "metadata": {
    "executionInfo": {
     "elapsed": 11,
     "status": "ok",
     "timestamp": 1749708456671,
     "user": {
      "displayName": "Sangyup Yi",
      "userId": "12601833867960021485"
     },
     "user_tz": -540
    },
    "id": "3RD_-TLqDav_"
   },
   "outputs": [
    {
     "name": "stderr",
     "output_type": "stream",
     "text": [
      "Epoch: 5/5, Loss: 0.6626: 100%|██████████| 250000/250000 [02:16<00:00, 1830.29it/s]\n"
     ]
    },
    {
     "name": "stdout",
     "output_type": "stream",
     "text": [
      "\n",
      "['0.11353', '0.04336', '0.03421', '0.02840', '0.02305']\n"
     ]
    }
   ],
   "source": [
    "if TRAIN_MODEL:\n",
    "  # optimizer = optim.SGD(model.parameters(), lr=LR)\n",
    "  optimizer = optim.Adam(model.parameters(), lr=LR)\n",
    "\n",
    "  criterion = nn.CrossEntropyLoss() # Binary Cross Entropy loss\n",
    "\n",
    "  L_hist = [] # loss history\n",
    "  grad_hist = [] # gradient history\n",
    "  progressbar = tqdm(total=N_TRAIN*EPOCH)\n",
    "  data_processed = 0\n",
    "\n",
    "  model.train() # train mode로 설정\n",
    "  for epoch in range(EPOCH):\n",
    "\n",
    "    rloss = 0 # running loss\n",
    "\n",
    "    for x_batch, y_batch in train_DL:\n",
    "      x_batch, y_batch = x_batch.to(DEVICE), y_batch.to(DEVICE)\n",
    "      # print(x_batch.shape, y_batch.shape)\n",
    "\n",
    "      # 1. inference\n",
    "      y_hat = model(x_batch)\n",
    "      # print(y_hat.shape)\n",
    "\n",
    "      # 2. loss\n",
    "      loss = criterion(y_hat, y_batch) # loss\n",
    "      rloss += (loss.item() * x_batch.size(0))\n",
    "\n",
    "      # 3. gradient\n",
    "      optimizer.zero_grad() # optimizer\n",
    "      loss.backward()\n",
    "      # grad_hist.append(torch.sum(torch.abs(model.linear[0].weight.grad)).item())\n",
    "\n",
    "      # 4. update weights\n",
    "      optimizer.step()\n",
    "\n",
    "      data_processed += x_batch.size(0)\n",
    "      if data_processed > (N_TRAIN//10):\n",
    "        progressbar.update(data_processed)\n",
    "        progressbar.set_description(f'Epoch: {epoch+1}/{EPOCH}, Loss: {loss:.4f}')\n",
    "        data_processed = 0\n",
    "\n",
    "    rloss /= N_TRAIN\n",
    "    L_hist.append(rloss)\n",
    "    # print(f'Epoch: {epoch+1}, Loss: {rloss}')\n",
    "\n",
    "    if data_processed > 0:\n",
    "      progressbar.update(data_processed)\n",
    "      progressbar.set_description(f'Epoch: {epoch+1}/{EPOCH}, Loss: {loss:.4f}')\n",
    "      data_processed = 0\n",
    "\n",
    "  L_hist_str = [f'{l:.5f}' for l in L_hist]\n",
    "  print()\n",
    "  print(L_hist_str)\n",
    "  # print(grad_hist)"
   ]
  },
  {
   "cell_type": "code",
   "execution_count": 48,
   "metadata": {
    "executionInfo": {
     "elapsed": 14,
     "status": "ok",
     "timestamp": 1749708456676,
     "user": {
      "displayName": "Sangyup Yi",
      "userId": "12601833867960021485"
     },
     "user_tz": -540
    },
    "id": "WbYcglQOHQQA"
   },
   "outputs": [
    {
     "data": {
      "image/png": "[encoded data removed]",
      "text/plain": [
       "<Figure size 600x400 with 1 Axes>"
      ]
     },
     "metadata": {},
     "output_type": "display_data"
    }
   ],
   "source": [
    "if TRAIN_MODEL:\n",
    "  plt.figure(figsize=(6,4))\n",
    "  plt.title(f'Loss ( {DS_NAME}, {MODEL_NAME}, EPOCH={EPOCH}, N_BATCH={N_BATCH}, LR={LR} )')\n",
    "  # plt.subplot(1, 2, 1)\n",
    "  plt.plot([i+1 for i in range(EPOCH)], L_hist, 'bs--', label='loss')\n",
    "  plt.xlabel('epoch')\n",
    "  plt.ylabel('loss')\n",
    "  plt.legend()\n",
    "  plt.grid()\n",
    "  # plt.subplot(1, 2, 2)\n",
    "  # # plt.plot([i+1 for i in range(EPOCH)], grad_hist, 'go--', label='gradient')\n",
    "  # plt.xlabel('epoch')\n",
    "  # plt.ylabel('gradient')\n",
    "  # plt.legend()\n",
    "  # plt.grid()"
   ]
  },
  {
   "cell_type": "markdown",
   "metadata": {
    "id": "ITqP3PybaqxI"
   },
   "source": [
    "### 모델 저장 / 로드"
   ]
  },
  {
   "cell_type": "code",
   "execution_count": 49,
   "metadata": {
    "executionInfo": {
     "elapsed": 6,
     "status": "ok",
     "timestamp": 1749708456678,
     "user": {
      "displayName": "Sangyup Yi",
      "userId": "12601833867960021485"
     },
     "user_tz": -540
    },
    "id": "CbnJMAtPaGm_"
   },
   "outputs": [
    {
     "name": "stdout",
     "output_type": "stream",
     "text": [
      "Model saved.\n"
     ]
    }
   ],
   "source": [
    "if TRAIN_MODEL and SAVE_MODEL:\n",
    "  torch.save(model.state_dict(), MODEL_PATH + '/' + MODEL_NAME + '_' + DS_NAME + '.pt')\n",
    "  print('Model saved.')"
   ]
  },
  {
   "cell_type": "code",
   "execution_count": 50,
   "metadata": {
    "colab": {
     "base_uri": "https://localhost:8080/"
    },
    "executionInfo": {
     "elapsed": 5,
     "status": "ok",
     "timestamp": 1749708456682,
     "user": {
      "displayName": "Sangyup Yi",
      "userId": "12601833867960021485"
     },
     "user_tz": -540
    },
    "id": "5RupsATyauXC",
    "outputId": "3d11be79-d183-47ea-e664-889d57e24351"
   },
   "outputs": [],
   "source": [
    "if LOAD_MODEL:\n",
    "  model = globals()[MODEL_NAME](N_CH, N_WIDTH, N_HEIGHT, N_CLASSES).to(DEVICE)\n",
    "  model.load_state_dict(torch.load(MODEL_PATH + '/' + MODEL_NAME + '_' + DS_NAME + '.pt'))\n",
    "  print('Model loaded.')\n",
    "\n",
    "  # 로드 확인\n",
    "  print(model)\n",
    "  # print(model.state_dict())"
   ]
  },
  {
   "cell_type": "markdown",
   "metadata": {
    "id": "weGJgUg6c0Kz"
   },
   "source": [
    "## STEP 4. 테스트"
   ]
  },
  {
   "cell_type": "markdown",
   "metadata": {
    "id": "fanXxYtsrl_2"
   },
   "source": [
    "#### Accuracy"
   ]
  },
  {
   "cell_type": "code",
   "execution_count": 51,
   "metadata": {
    "colab": {
     "base_uri": "https://localhost:8080/"
    },
    "executionInfo": {
     "elapsed": 4727,
     "status": "ok",
     "timestamp": 1749708461410,
     "user": {
      "displayName": "Sangyup Yi",
      "userId": "12601833867960021485"
     },
     "user_tz": -540
    },
    "id": "jVeFZGmDc7fc",
    "outputId": "b8bb9cc0-2d58-46b9-d0e4-ac71cf0eb33e"
   },
   "outputs": [
    {
     "name": "stdout",
     "output_type": "stream",
     "text": [
      "Test accuracy : 99.13%, (9913/10000)\n"
     ]
    }
   ],
   "source": [
    "model.eval() # drop out, batch normalization 등 사용되었다면, eval() 모드와 train() 모드에서 결과 다르다.\n",
    "with torch.no_grad(): # gradient 계산 중지\n",
    "  correct = 0\n",
    "  for x_test, y_test in test_DL:\n",
    "    x_test = x_test.to(DEVICE)\n",
    "    y_test = y_test.to(DEVICE)\n",
    "\n",
    "    y_hat = model(x_test)\n",
    "    pred = y_hat.argmax(dim=1)\n",
    "    # print(y_hat.shape)\n",
    "    # print(pred)\n",
    "    # print(y_test)\n",
    "    # print(pred == y_test)\n",
    "    # print(torch.sum(pred == y_test).item())\n",
    "    # break\n",
    "\n",
    "    correct += torch.sum(pred == y_test).item()\n",
    "\n",
    "print(f'Test accuracy : {(correct/N_TEST)*100 :.2f}%, ({correct}/{N_TEST})')"
   ]
  },
  {
   "cell_type": "code",
   "execution_count": 52,
   "metadata": {
    "colab": {
     "base_uri": "https://localhost:8080/"
    },
    "executionInfo": {
     "elapsed": 6,
     "status": "ok",
     "timestamp": 1749708461410,
     "user": {
      "displayName": "Sangyup Yi",
      "userId": "12601833867960021485"
     },
     "user_tz": -540
    },
    "id": "2W1wGFQ1sZZS",
    "outputId": "5dfc0f1a-e74e-4850-9013-2ab21a6381de"
   },
   "outputs": [
    {
     "name": "stdout",
     "output_type": "stream",
     "text": [
      "tensor([True, True, True, True, True, True, True, True, True, True, True, True,\n",
      "        True, True, True, True])\n",
      "tensor([], dtype=torch.int64)\n",
      "tensor([], dtype=torch.int64)\n",
      "tensor([], dtype=torch.int64)\n"
     ]
    }
   ],
   "source": [
    "print(pred == y_test)\n",
    "print(pred[pred != y_test])\n",
    "print(y_test[pred != y_test])\n",
    "print(torch.nonzero(pred != y_test).squeeze())\n"
   ]
  },
  {
   "cell_type": "markdown",
   "metadata": {
    "id": "2sp-RvTfwx0n"
   },
   "source": [
    "### Show incorrect predicates"
   ]
  },
  {
   "cell_type": "code",
   "execution_count": 53,
   "metadata": {
    "colab": {
     "base_uri": "https://localhost:8080/",
     "height": 1000
    },
    "executionInfo": {
     "elapsed": 6668,
     "status": "ok",
     "timestamp": 1749708468076,
     "user": {
      "displayName": "Sangyup Yi",
      "userId": "12601833867960021485"
     },
     "user_tz": -540
    },
    "id": "p0_B2E8ur3D6",
    "outputId": "518f8ea1-d96b-471e-9810-8d8b13d348da"
   },
   "outputs": [
    {
     "name": "stdout",
     "output_type": "stream",
     "text": [
      "Test accuracy : 99.13%, (9913/10000)\n"
     ]
    },
    {
     "data": {
      "image/png": "[encoded data removed]",
      "text/plain": [
       "<Figure size 1500x1200 with 36 Axes>"
      ]
     },
     "metadata": {},
     "output_type": "display_data"
    }
   ],
   "source": [
    "plt.figure(figsize=(15, 12))\n",
    "subplot_index = 1\n",
    "subplot_row = 6\n",
    "subplot_col = 6\n",
    "subplot_count = subplot_row * subplot_col\n",
    "\n",
    "model.eval() # drop out, batch normalization 등 사용되었다면, eval() 모드와 train() 모드에서 결과 다르다.\n",
    "with torch.no_grad(): # gradient 계산 중지\n",
    "  correct = 0\n",
    "  for x_test, y_test in test_DL:\n",
    "    x_test = x_test.to(DEVICE)\n",
    "    y_test = y_test.to(DEVICE)\n",
    "\n",
    "    y_hat = model(x_test)\n",
    "    pred = y_hat.argmax(dim=1)\n",
    "    # print(y_hat.shape)\n",
    "    # print(pred)\n",
    "    # print(y_test)\n",
    "    # print(pred == y_test)\n",
    "    # print(torch.sum(pred == y_test).item())\n",
    "    # break\n",
    "\n",
    "    correct += torch.sum(pred == y_test).item()\n",
    "\n",
    "    # show incorrect pred\n",
    "    incorrect_index = torch.nonzero(pred != y_test).reshape(-1)\n",
    "    for i in incorrect_index:\n",
    "      if subplot_count < subplot_index:\n",
    "        break\n",
    "      plt.subplot(subplot_row, subplot_col, subplot_index)\n",
    "      if N_CH == 1:\n",
    "        plt.imshow(x_test[i].cpu().squeeze(), cmap='gray')\n",
    "      else:\n",
    "        plt.imshow(x_test[i].cpu().squeeze().permute(1, 2, 0))\n",
    "      pred_classname = train_DS.classes[pred[i].item()]\n",
    "      y_test_classname = train_DS.classes[y_test[i].item()]\n",
    "      plt.title(f'{pred_classname} ({y_test_classname})', color=('g' if pred[i] == y_test[i] else 'r'))\n",
    "      plt.axis('off')\n",
    "      subplot_index += 1\n",
    "\n",
    "\n",
    "print(f'Test accuracy : {(correct/N_TEST)*100 :.2f}%, ({correct}/{N_TEST})')"
   ]
  },
  {
   "cell_type": "markdown",
   "metadata": {
    "id": "1hmakmiDxxA4"
   },
   "source": [
    "### Confusion Matrix"
   ]
  },
  {
   "cell_type": "code",
   "execution_count": null,
   "metadata": {
    "colab": {
     "base_uri": "https://localhost:8080/",
     "height": 770
    },
    "executionInfo": {
     "elapsed": 4400,
     "status": "ok",
     "timestamp": 1749708472477,
     "user": {
      "displayName": "Sangyup Yi",
      "userId": "12601833867960021485"
     },
     "user_tz": -540
    },
    "id": "euXUB-mcx2b1",
    "outputId": "5569741f-415c-48ca-aa78-6190353af62e"
   },
   "outputs": [
    {
     "data": {
      "image/png": "[encoded data removed]",
      "text/plain": [
       "<Figure size 800x800 with 1 Axes>"
      ]
     },
     "metadata": {},
     "output_type": "display_data"
    }
   ],
   "source": [
    "model.eval()\n",
    "with torch.no_grad():\n",
    "  confusion = torch.zeros(N_CLASSES, N_CLASSES)\n",
    "  # print(confusion.shape)\n",
    "\n",
    "  for x_test, y_test in test_DL:\n",
    "    x_test = x_test.to(DEVICE)\n",
    "    y_test = y_test.to(DEVICE)\n",
    "\n",
    "    y_hat = model(x_test)\n",
    "    pred = y_hat.argmax(dim=1)\n",
    "\n",
    "    confusion += torch.bincount(N_CLASSES * y_test + pred, minlength=N_CLASSES**2).cpu().reshape(N_CLASSES, N_CLASSES)\n",
    "\n",
    "# plot\n",
    "plt.figure(figsize=(8, 8))\n",
    "plt.title(f'Confusion Matrix ( {DS_NAME}, {MODEL_NAME}, EPOCH={EPOCH}, N_BATCH={N_BATCH}, LR={LR} )')\n",
    "plt.imshow(confusion, cmap='Blues')\n",
    "plt.xlabel(f'Predicted (accuracy : {(correct/N_TEST)*100 :.2f}%, ({correct}/{N_TEST}))')\n",
    "plt.ylabel('True')\n",
    "plt.xticks(range(N_CLASSES), train_DS.classes, rotation=45)\n",
    "plt.yticks(range(N_CLASSES), train_DS.classes)\n",
    "# plt.colorbar()\n",
    "for i in range(N_CLASSES):\n",
    "  for j in range(N_CLASSES):\n",
    "    plt.text(j, i, int(confusion[i, j].item()), ha='center', va='center',\n",
    "             color='w' if confusion[i, j].item() > confusion.max() / 2 else 'k')"
   ]
  }
 ],
 "metadata": {
  "accelerator": "GPU",
  "colab": {
   "authorship_tag": "ABX9TyNRMiKXSobS4/jW/iNfZfdy",
   "gpuType": "T4",
   "provenance": [],
   "toc_visible": true
  },
  "kernelspec": {
   "display_name": "torchrlenv",
   "language": "python",
   "name": "python3"
  },
  "language_info": {
   "codemirror_mode": {
    "name": "ipython",
    "version": 3
   },
   "file_extension": ".py",
   "mimetype": "text/x-python",
   "name": "python",
   "nbconvert_exporter": "python",
   "pygments_lexer": "ipython3",
   "version": "3.9.22"
  }
 },
 "nbformat": 4,
 "nbformat_minor": 0
}
